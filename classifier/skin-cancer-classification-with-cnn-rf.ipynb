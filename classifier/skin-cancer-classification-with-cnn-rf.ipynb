{
 "cells": [
  {
   "cell_type": "code",
   "execution_count": 1,
   "metadata": {
    "execution": {
     "iopub.execute_input": "2024-04-06T13:09:31.024006Z",
     "iopub.status.busy": "2024-04-06T13:09:31.023704Z",
     "iopub.status.idle": "2024-04-06T13:09:40.493856Z",
     "shell.execute_reply": "2024-04-06T13:09:40.492711Z",
     "shell.execute_reply.started": "2024-04-06T13:09:31.023981Z"
    }
   },
   "outputs": [
    {
     "name": "stderr",
     "output_type": "stream",
     "text": [
      "/opt/conda/lib/python3.10/site-packages/scipy/__init__.py:146: UserWarning: A NumPy version >=1.16.5 and <1.23.0 is required for this version of SciPy (detected version 1.23.5\n",
      "  warnings.warn(f\"A NumPy version >={np_minversion} and <{np_maxversion}\"\n",
      "/opt/conda/lib/python3.10/site-packages/tensorflow_io/python/ops/__init__.py:98: UserWarning: unable to load libtensorflow_io_plugins.so: unable to open file: libtensorflow_io_plugins.so, from paths: ['/opt/conda/lib/python3.10/site-packages/tensorflow_io/python/ops/libtensorflow_io_plugins.so']\n",
      "caused by: ['/opt/conda/lib/python3.10/site-packages/tensorflow_io/python/ops/libtensorflow_io_plugins.so: undefined symbol: _ZN3tsl6StatusC1EN10tensorflow5error4CodeESt17basic_string_viewIcSt11char_traitsIcEENS_14SourceLocationE']\n",
      "  warnings.warn(f\"unable to load libtensorflow_io_plugins.so: {e}\")\n",
      "/opt/conda/lib/python3.10/site-packages/tensorflow_io/python/ops/__init__.py:104: UserWarning: file system plugins are not loaded: unable to open file: libtensorflow_io.so, from paths: ['/opt/conda/lib/python3.10/site-packages/tensorflow_io/python/ops/libtensorflow_io.so']\n",
      "caused by: ['/opt/conda/lib/python3.10/site-packages/tensorflow_io/python/ops/libtensorflow_io.so: undefined symbol: _ZTVN10tensorflow13GcsFileSystemE']\n",
      "  warnings.warn(f\"file system plugins are not loaded: {e}\")\n"
     ]
    }
   ],
   "source": [
    "# import system libs \n",
    "import os\n",
    "import time\n",
    "import shutil\n",
    "import itertools\n",
    "\n",
    "# import data handling tools \n",
    "import cv2\n",
    "import numpy as np\n",
    "import pandas as pd\n",
    "import seaborn as sns\n",
    "sns.set_style('darkgrid')\n",
    "import matplotlib.pyplot as plt\n",
    "\n",
    "# import Deep learning Libraries\n",
    "import tensorflow as tf\n",
    "from tensorflow import keras\n",
    "from tensorflow.keras.layers import Conv2D, MaxPooling2D, Flatten, Dense, Activation, Dropout, BatchNormalization\n",
    "from tensorflow.keras.models import Model, load_model, Sequential\n",
    "from tensorflow.keras.preprocessing.image import ImageDataGenerator\n",
    "from sklearn.metrics import confusion_matrix, classification_report\n",
    "from sklearn.model_selection import train_test_split\n",
    "from tensorflow.keras.optimizers import Adam, Adamax\n",
    "from tensorflow.keras import regularizers\n",
    "from tensorflow.keras.metrics import categorical_crossentropy"
   ]
  },
  {
   "cell_type": "code",
   "execution_count": 2,
   "metadata": {
    "execution": {
     "iopub.execute_input": "2024-04-06T13:09:40.496839Z",
     "iopub.status.busy": "2024-04-06T13:09:40.496021Z",
     "iopub.status.idle": "2024-04-06T13:09:41.500826Z",
     "shell.execute_reply": "2024-04-06T13:09:41.499796Z",
     "shell.execute_reply.started": "2024-04-06T13:09:40.496801Z"
    }
   },
   "outputs": [
    {
     "name": "stdout",
     "output_type": "stream",
     "text": [
      "Sat Apr  6 13:09:41 2024       \n",
      "+---------------------------------------------------------------------------------------+\n",
      "| NVIDIA-SMI 535.129.03             Driver Version: 535.129.03   CUDA Version: 12.2     |\n",
      "|-----------------------------------------+----------------------+----------------------+\n",
      "| GPU  Name                 Persistence-M | Bus-Id        Disp.A | Volatile Uncorr. ECC |\n",
      "| Fan  Temp   Perf          Pwr:Usage/Cap |         Memory-Usage | GPU-Util  Compute M. |\n",
      "|                                         |                      |               MIG M. |\n",
      "|=========================================+======================+======================|\n",
      "|   0  Tesla P100-PCIE-16GB           Off | 00000000:00:04.0 Off |                    0 |\n",
      "| N/A   38C    P0              26W / 250W |      0MiB / 16384MiB |      0%      Default |\n",
      "|                                         |                      |                  N/A |\n",
      "+-----------------------------------------+----------------------+----------------------+\n",
      "                                                                                         \n",
      "+---------------------------------------------------------------------------------------+\n",
      "| Processes:                                                                            |\n",
      "|  GPU   GI   CI        PID   Type   Process name                            GPU Memory |\n",
      "|        ID   ID                                                             Usage      |\n",
      "|=======================================================================================|\n",
      "|  No running processes found                                                           |\n",
      "+---------------------------------------------------------------------------------------+\n"
     ]
    }
   ],
   "source": [
    "!nvidia-smi"
   ]
  },
  {
   "cell_type": "code",
   "execution_count": 3,
   "metadata": {
    "execution": {
     "iopub.execute_input": "2024-04-06T13:09:41.502583Z",
     "iopub.status.busy": "2024-04-06T13:09:41.502270Z",
     "iopub.status.idle": "2024-04-06T13:09:42.464812Z",
     "shell.execute_reply": "2024-04-06T13:09:42.463594Z",
     "shell.execute_reply.started": "2024-04-06T13:09:41.502555Z"
    }
   },
   "outputs": [
    {
     "name": "stdout",
     "output_type": "stream",
     "text": [
      "Architecture:            x86_64\n",
      "  CPU op-mode(s):        32-bit, 64-bit\n",
      "  Address sizes:         46 bits physical, 48 bits virtual\n",
      "  Byte Order:            Little Endian\n",
      "CPU(s):                  4\n",
      "  On-line CPU(s) list:   0-3\n",
      "Vendor ID:               GenuineIntel\n",
      "  Model name:            Intel(R) Xeon(R) CPU @ 2.00GHz\n",
      "    CPU family:          6\n",
      "    Model:               85\n",
      "    Thread(s) per core:  2\n",
      "    Core(s) per socket:  2\n",
      "    Socket(s):           1\n",
      "    Stepping:            3\n",
      "    BogoMIPS:            4000.34\n",
      "    Flags:               fpu vme de pse tsc msr pae mce cx8 apic sep mtrr pge mc\n",
      "                         a cmov pat pse36 clflush mmx fxsr sse sse2 ss ht syscal\n",
      "                         l nx pdpe1gb rdtscp lm constant_tsc rep_good nopl xtopo\n",
      "                         logy nonstop_tsc cpuid tsc_known_freq pni pclmulqdq sss\n",
      "                         e3 fma cx16 pcid sse4_1 sse4_2 x2apic movbe popcnt aes \n",
      "                         xsave avx f16c rdrand hypervisor lahf_lm abm 3dnowprefe\n",
      "                         tch invpcid_single pti ssbd ibrs ibpb stibp fsgsbase ts\n",
      "                         c_adjust bmi1 hle avx2 smep bmi2 erms invpcid rtm mpx a\n",
      "                         vx512f avx512dq rdseed adx smap clflushopt clwb avx512c\n",
      "                         d avx512bw avx512vl xsaveopt xsavec xgetbv1 xsaves arat\n",
      "                          md_clear arch_capabilities\n",
      "Virtualization features: \n",
      "  Hypervisor vendor:     KVM\n",
      "  Virtualization type:   full\n",
      "Caches (sum of all):     \n",
      "  L1d:                   64 KiB (2 instances)\n",
      "  L1i:                   64 KiB (2 instances)\n",
      "  L2:                    2 MiB (2 instances)\n",
      "  L3:                    38.5 MiB (1 instance)\n",
      "NUMA:                    \n",
      "  NUMA node(s):          1\n",
      "  NUMA node0 CPU(s):     0-3\n",
      "Vulnerabilities:         \n",
      "  Gather data sampling:  Not affected\n",
      "  Itlb multihit:         Not affected\n",
      "  L1tf:                  Mitigation; PTE Inversion\n",
      "  Mds:                   Mitigation; Clear CPU buffers; SMT Host state unknown\n",
      "  Meltdown:              Mitigation; PTI\n",
      "  Mmio stale data:       Vulnerable: Clear CPU buffers attempted, no microcode; \n",
      "                         SMT Host state unknown\n",
      "  Retbleed:              Mitigation; IBRS\n",
      "  Spec rstack overflow:  Not affected\n",
      "  Spec store bypass:     Mitigation; Speculative Store Bypass disabled via prctl\n",
      "                          and seccomp\n",
      "  Spectre v1:            Mitigation; usercopy/swapgs barriers and __user pointer\n",
      "                          sanitization\n",
      "  Spectre v2:            Mitigation; IBRS, IBPB conditional, STIBP conditional, \n",
      "                         RSB filling, PBRSB-eIBRS Not affected\n",
      "  Srbds:                 Not affected\n",
      "  Tsx async abort:       Mitigation; Clear CPU buffers; SMT Host state unknown\n"
     ]
    }
   ],
   "source": [
    "!lscpu"
   ]
  },
  {
   "cell_type": "code",
   "execution_count": 4,
   "metadata": {
    "execution": {
     "iopub.execute_input": "2024-04-06T13:09:42.468485Z",
     "iopub.status.busy": "2024-04-06T13:09:42.468056Z",
     "iopub.status.idle": "2024-04-06T13:09:47.386267Z",
     "shell.execute_reply": "2024-04-06T13:09:47.385405Z",
     "shell.execute_reply.started": "2024-04-06T13:09:42.468441Z"
    }
   },
   "outputs": [
    {
     "data": {
      "text/html": [
       "<div>\n",
       "<style scoped>\n",
       "    .dataframe tbody tr th:only-of-type {\n",
       "        vertical-align: middle;\n",
       "    }\n",
       "\n",
       "    .dataframe tbody tr th {\n",
       "        vertical-align: top;\n",
       "    }\n",
       "\n",
       "    .dataframe thead th {\n",
       "        text-align: right;\n",
       "    }\n",
       "</style>\n",
       "<table border=\"1\" class=\"dataframe\">\n",
       "  <thead>\n",
       "    <tr style=\"text-align: right;\">\n",
       "      <th></th>\n",
       "      <th>pixel0000</th>\n",
       "      <th>pixel0001</th>\n",
       "      <th>pixel0002</th>\n",
       "      <th>pixel0003</th>\n",
       "      <th>pixel0004</th>\n",
       "      <th>pixel0005</th>\n",
       "      <th>pixel0006</th>\n",
       "      <th>pixel0007</th>\n",
       "      <th>pixel0008</th>\n",
       "      <th>pixel0009</th>\n",
       "      <th>...</th>\n",
       "      <th>pixel2343</th>\n",
       "      <th>pixel2344</th>\n",
       "      <th>pixel2345</th>\n",
       "      <th>pixel2346</th>\n",
       "      <th>pixel2347</th>\n",
       "      <th>pixel2348</th>\n",
       "      <th>pixel2349</th>\n",
       "      <th>pixel2350</th>\n",
       "      <th>pixel2351</th>\n",
       "      <th>label</th>\n",
       "    </tr>\n",
       "  </thead>\n",
       "  <tbody>\n",
       "    <tr>\n",
       "      <th>0</th>\n",
       "      <td>192</td>\n",
       "      <td>153</td>\n",
       "      <td>193</td>\n",
       "      <td>195</td>\n",
       "      <td>155</td>\n",
       "      <td>192</td>\n",
       "      <td>197</td>\n",
       "      <td>154</td>\n",
       "      <td>185</td>\n",
       "      <td>202</td>\n",
       "      <td>...</td>\n",
       "      <td>173</td>\n",
       "      <td>124</td>\n",
       "      <td>138</td>\n",
       "      <td>183</td>\n",
       "      <td>147</td>\n",
       "      <td>166</td>\n",
       "      <td>185</td>\n",
       "      <td>154</td>\n",
       "      <td>177</td>\n",
       "      <td>2</td>\n",
       "    </tr>\n",
       "    <tr>\n",
       "      <th>1</th>\n",
       "      <td>25</td>\n",
       "      <td>14</td>\n",
       "      <td>30</td>\n",
       "      <td>68</td>\n",
       "      <td>48</td>\n",
       "      <td>75</td>\n",
       "      <td>123</td>\n",
       "      <td>93</td>\n",
       "      <td>126</td>\n",
       "      <td>158</td>\n",
       "      <td>...</td>\n",
       "      <td>60</td>\n",
       "      <td>39</td>\n",
       "      <td>55</td>\n",
       "      <td>25</td>\n",
       "      <td>14</td>\n",
       "      <td>28</td>\n",
       "      <td>25</td>\n",
       "      <td>14</td>\n",
       "      <td>27</td>\n",
       "      <td>2</td>\n",
       "    </tr>\n",
       "    <tr>\n",
       "      <th>2</th>\n",
       "      <td>192</td>\n",
       "      <td>138</td>\n",
       "      <td>153</td>\n",
       "      <td>200</td>\n",
       "      <td>145</td>\n",
       "      <td>163</td>\n",
       "      <td>201</td>\n",
       "      <td>142</td>\n",
       "      <td>160</td>\n",
       "      <td>206</td>\n",
       "      <td>...</td>\n",
       "      <td>167</td>\n",
       "      <td>129</td>\n",
       "      <td>143</td>\n",
       "      <td>159</td>\n",
       "      <td>124</td>\n",
       "      <td>142</td>\n",
       "      <td>136</td>\n",
       "      <td>104</td>\n",
       "      <td>117</td>\n",
       "      <td>2</td>\n",
       "    </tr>\n",
       "    <tr>\n",
       "      <th>3</th>\n",
       "      <td>38</td>\n",
       "      <td>19</td>\n",
       "      <td>30</td>\n",
       "      <td>95</td>\n",
       "      <td>59</td>\n",
       "      <td>72</td>\n",
       "      <td>143</td>\n",
       "      <td>103</td>\n",
       "      <td>119</td>\n",
       "      <td>171</td>\n",
       "      <td>...</td>\n",
       "      <td>44</td>\n",
       "      <td>26</td>\n",
       "      <td>36</td>\n",
       "      <td>25</td>\n",
       "      <td>12</td>\n",
       "      <td>17</td>\n",
       "      <td>25</td>\n",
       "      <td>12</td>\n",
       "      <td>15</td>\n",
       "      <td>2</td>\n",
       "    </tr>\n",
       "    <tr>\n",
       "      <th>4</th>\n",
       "      <td>158</td>\n",
       "      <td>113</td>\n",
       "      <td>139</td>\n",
       "      <td>194</td>\n",
       "      <td>144</td>\n",
       "      <td>174</td>\n",
       "      <td>215</td>\n",
       "      <td>162</td>\n",
       "      <td>191</td>\n",
       "      <td>225</td>\n",
       "      <td>...</td>\n",
       "      <td>209</td>\n",
       "      <td>166</td>\n",
       "      <td>185</td>\n",
       "      <td>172</td>\n",
       "      <td>135</td>\n",
       "      <td>149</td>\n",
       "      <td>109</td>\n",
       "      <td>78</td>\n",
       "      <td>92</td>\n",
       "      <td>2</td>\n",
       "    </tr>\n",
       "  </tbody>\n",
       "</table>\n",
       "<p>5 rows × 2353 columns</p>\n",
       "</div>"
      ],
      "text/plain": [
       "   pixel0000  pixel0001  pixel0002  pixel0003  pixel0004  pixel0005  \\\n",
       "0        192        153        193        195        155        192   \n",
       "1         25         14         30         68         48         75   \n",
       "2        192        138        153        200        145        163   \n",
       "3         38         19         30         95         59         72   \n",
       "4        158        113        139        194        144        174   \n",
       "\n",
       "   pixel0006  pixel0007  pixel0008  pixel0009  ...  pixel2343  pixel2344  \\\n",
       "0        197        154        185        202  ...        173        124   \n",
       "1        123         93        126        158  ...         60         39   \n",
       "2        201        142        160        206  ...        167        129   \n",
       "3        143        103        119        171  ...         44         26   \n",
       "4        215        162        191        225  ...        209        166   \n",
       "\n",
       "   pixel2345  pixel2346  pixel2347  pixel2348  pixel2349  pixel2350  \\\n",
       "0        138        183        147        166        185        154   \n",
       "1         55         25         14         28         25         14   \n",
       "2        143        159        124        142        136        104   \n",
       "3         36         25         12         17         25         12   \n",
       "4        185        172        135        149        109         78   \n",
       "\n",
       "   pixel2351  label  \n",
       "0        177      2  \n",
       "1         27      2  \n",
       "2        117      2  \n",
       "3         15      2  \n",
       "4         92      2  \n",
       "\n",
       "[5 rows x 2353 columns]"
      ]
     },
     "execution_count": 4,
     "metadata": {},
     "output_type": "execute_result"
    }
   ],
   "source": [
    "data_dir = '/kaggle/input/skin-cancer-mnist-ham10000/hmnist_28_28_RGB.csv'\n",
    "data = pd.read_csv(data_dir)\n",
    "data.head()"
   ]
  },
  {
   "cell_type": "code",
   "execution_count": 5,
   "metadata": {
    "execution": {
     "iopub.execute_input": "2024-04-06T13:09:47.387864Z",
     "iopub.status.busy": "2024-04-06T13:09:47.387485Z",
     "iopub.status.idle": "2024-04-06T13:09:47.452262Z",
     "shell.execute_reply": "2024-04-06T13:09:47.451356Z",
     "shell.execute_reply.started": "2024-04-06T13:09:47.387827Z"
    }
   },
   "outputs": [],
   "source": [
    "Label = data[\"label\"]\n",
    "Data = data.drop(columns=[\"label\"])"
   ]
  },
  {
   "cell_type": "code",
   "execution_count": 6,
   "metadata": {
    "execution": {
     "iopub.execute_input": "2024-04-06T13:09:47.454729Z",
     "iopub.status.busy": "2024-04-06T13:09:47.453960Z",
     "iopub.status.idle": "2024-04-06T13:09:47.467365Z",
     "shell.execute_reply": "2024-04-06T13:09:47.466372Z",
     "shell.execute_reply.started": "2024-04-06T13:09:47.454687Z"
    }
   },
   "outputs": [
    {
     "data": {
      "text/plain": [
       "4    6705\n",
       "6    1113\n",
       "2    1099\n",
       "1     514\n",
       "0     327\n",
       "5     142\n",
       "3     115\n",
       "Name: label, dtype: int64"
      ]
     },
     "execution_count": 6,
     "metadata": {},
     "output_type": "execute_result"
    }
   ],
   "source": [
    "data[\"label\"].value_counts()"
   ]
  },
  {
   "cell_type": "markdown",
   "metadata": {},
   "source": [
    "We have imbalance in the data"
   ]
  },
  {
   "cell_type": "markdown",
   "metadata": {},
   "source": [
    "**Handling imbalanced datasets**"
   ]
  },
  {
   "cell_type": "code",
   "execution_count": 7,
   "metadata": {
    "execution": {
     "iopub.execute_input": "2024-04-06T13:09:47.469130Z",
     "iopub.status.busy": "2024-04-06T13:09:47.468741Z",
     "iopub.status.idle": "2024-04-06T13:09:50.967761Z",
     "shell.execute_reply": "2024-04-06T13:09:50.966799Z",
     "shell.execute_reply.started": "2024-04-06T13:09:47.469098Z"
    }
   },
   "outputs": [
    {
     "name": "stdout",
     "output_type": "stream",
     "text": [
      "Shape of Data : (46935, 28, 28, 3)\n"
     ]
    }
   ],
   "source": [
    "from imblearn.over_sampling import RandomOverSampler\n",
    "\n",
    "oversample = RandomOverSampler()\n",
    "Data, Label  = oversample.fit_resample(Data, Label)\n",
    "Data = np.array(Data).reshape(-1, 28, 28, 3)\n",
    "print('Shape of Data :', Data.shape)"
   ]
  },
  {
   "cell_type": "code",
   "execution_count": 8,
   "metadata": {
    "execution": {
     "iopub.execute_input": "2024-04-06T13:09:50.969368Z",
     "iopub.status.busy": "2024-04-06T13:09:50.969037Z",
     "iopub.status.idle": "2024-04-06T13:09:50.975930Z",
     "shell.execute_reply": "2024-04-06T13:09:50.974845Z",
     "shell.execute_reply.started": "2024-04-06T13:09:50.969342Z"
    }
   },
   "outputs": [
    {
     "data": {
      "text/plain": [
       "array([2, 2, 2, ..., 6, 6, 6])"
      ]
     },
     "execution_count": 8,
     "metadata": {},
     "output_type": "execute_result"
    }
   ],
   "source": [
    "Label = np.array(Label)\n",
    "Label"
   ]
  },
  {
   "cell_type": "code",
   "execution_count": 9,
   "metadata": {
    "execution": {
     "iopub.execute_input": "2024-04-06T13:09:50.977735Z",
     "iopub.status.busy": "2024-04-06T13:09:50.977314Z",
     "iopub.status.idle": "2024-04-06T13:09:50.986604Z",
     "shell.execute_reply": "2024-04-06T13:09:50.985696Z",
     "shell.execute_reply.started": "2024-04-06T13:09:50.977703Z"
    }
   },
   "outputs": [],
   "source": [
    "classes = {4: ('nv', ' melanocytic nevi'),\n",
    "           6: ('mel', 'melanoma'),\n",
    "           2: ('bkl', 'benign keratosis-like lesions'), \n",
    "           1: ('bcc' , ' basal cell carcinoma'),\n",
    "           5: ('vasc', ' pyogenic granulomas and hemorrhage'),\n",
    "           0: ('akiec', 'Actinic keratoses and intraepithelial carcinomae'),\n",
    "           3: ('df', 'dermatofibroma')}"
   ]
  },
  {
   "cell_type": "code",
   "execution_count": 10,
   "metadata": {
    "execution": {
     "iopub.execute_input": "2024-04-06T13:09:50.991548Z",
     "iopub.status.busy": "2024-04-06T13:09:50.991262Z",
     "iopub.status.idle": "2024-04-06T13:09:52.261593Z",
     "shell.execute_reply": "2024-04-06T13:09:52.260578Z",
     "shell.execute_reply.started": "2024-04-06T13:09:50.991513Z"
    }
   },
   "outputs": [],
   "source": [
    "from sklearn.model_selection import train_test_split\n",
    "\n",
    "X_train , X_test , y_train , y_test = train_test_split(Data , Label , test_size = 0.25 , random_state = 49)"
   ]
  },
  {
   "cell_type": "code",
   "execution_count": 11,
   "metadata": {
    "execution": {
     "iopub.execute_input": "2024-04-06T13:09:52.263054Z",
     "iopub.status.busy": "2024-04-06T13:09:52.262767Z",
     "iopub.status.idle": "2024-04-06T13:09:52.268205Z",
     "shell.execute_reply": "2024-04-06T13:09:52.267348Z",
     "shell.execute_reply.started": "2024-04-06T13:09:52.263029Z"
    }
   },
   "outputs": [
    {
     "name": "stdout",
     "output_type": "stream",
     "text": [
      "(35201, 28, 28, 3)\n",
      "(35201,)\n",
      "(11734, 28, 28, 3)\n",
      "(11734,)\n"
     ]
    }
   ],
   "source": [
    "print(X_train.shape)\n",
    "print(y_train.shape)\n",
    "\n",
    "print(X_test.shape)\n",
    "print(y_test.shape)"
   ]
  },
  {
   "cell_type": "markdown",
   "metadata": {},
   "source": [
    "**Convert labels to categorical types**"
   ]
  },
  {
   "cell_type": "code",
   "execution_count": 12,
   "metadata": {
    "execution": {
     "iopub.execute_input": "2024-04-06T13:09:52.269759Z",
     "iopub.status.busy": "2024-04-06T13:09:52.269441Z",
     "iopub.status.idle": "2024-04-06T13:09:52.278877Z",
     "shell.execute_reply": "2024-04-06T13:09:52.277992Z",
     "shell.execute_reply.started": "2024-04-06T13:09:52.269734Z"
    }
   },
   "outputs": [],
   "source": [
    "from keras.utils.np_utils import to_categorical\n",
    "\n",
    "y_train = to_categorical(y_train)\n",
    "y_test = to_categorical(y_test)"
   ]
  },
  {
   "cell_type": "markdown",
   "metadata": {},
   "source": [
    "**Create Image Data Generation**"
   ]
  },
  {
   "cell_type": "code",
   "execution_count": 13,
   "metadata": {
    "execution": {
     "iopub.execute_input": "2024-04-06T13:09:52.280623Z",
     "iopub.status.busy": "2024-04-06T13:09:52.280264Z",
     "iopub.status.idle": "2024-04-06T13:09:52.289069Z",
     "shell.execute_reply": "2024-04-06T13:09:52.288099Z",
     "shell.execute_reply.started": "2024-04-06T13:09:52.280592Z"
    }
   },
   "outputs": [],
   "source": [
    "datagen = ImageDataGenerator(rescale=(1./255)\n",
    "                            ,rotation_range=10\n",
    "                            ,zoom_range = 0.1\n",
    "                            ,width_shift_range=0.1\n",
    "                            ,height_shift_range=0.1)\n",
    "\n",
    "testgen = ImageDataGenerator(rescale=(1./255))"
   ]
  },
  {
   "cell_type": "markdown",
   "metadata": {},
   "source": [
    "**Create ReduceLROnPlateau to learning rate reduction**"
   ]
  },
  {
   "cell_type": "code",
   "execution_count": 14,
   "metadata": {
    "execution": {
     "iopub.execute_input": "2024-04-06T13:09:52.290625Z",
     "iopub.status.busy": "2024-04-06T13:09:52.290281Z",
     "iopub.status.idle": "2024-04-06T13:09:52.298405Z",
     "shell.execute_reply": "2024-04-06T13:09:52.297572Z",
     "shell.execute_reply.started": "2024-04-06T13:09:52.290578Z"
    }
   },
   "outputs": [],
   "source": [
    "from keras.callbacks import ReduceLROnPlateau\n",
    "\n",
    "learning_rate_reduction = ReduceLROnPlateau(monitor='val_accuracy'\n",
    "                                           ,patience = 2\n",
    "                                           ,verbose=1\n",
    "                                           ,factor=0.5\n",
    "                                           ,min_lr=0.00001)"
   ]
  },
  {
   "cell_type": "code",
   "execution_count": 15,
   "metadata": {
    "execution": {
     "iopub.execute_input": "2024-04-06T13:09:52.300030Z",
     "iopub.status.busy": "2024-04-06T13:09:52.299582Z",
     "iopub.status.idle": "2024-04-06T13:09:55.058552Z",
     "shell.execute_reply": "2024-04-06T13:09:55.057575Z",
     "shell.execute_reply.started": "2024-04-06T13:09:52.300005Z"
    }
   },
   "outputs": [
    {
     "name": "stdout",
     "output_type": "stream",
     "text": [
      "Model: \"sequential\"\n",
      "_________________________________________________________________\n",
      " Layer (type)                Output Shape              Param #   \n",
      "=================================================================\n",
      " conv2d (Conv2D)             (None, 28, 28, 32)        896       \n",
      "                                                                 \n",
      " max_pooling2d (MaxPooling2D  (None, 14, 14, 32)       0         \n",
      " )                                                               \n",
      "                                                                 \n",
      " batch_normalization (BatchN  (None, 14, 14, 32)       128       \n",
      " ormalization)                                                   \n",
      "                                                                 \n",
      " conv2d_1 (Conv2D)           (None, 14, 14, 64)        18496     \n",
      "                                                                 \n",
      " conv2d_2 (Conv2D)           (None, 14, 14, 64)        36928     \n",
      "                                                                 \n",
      " max_pooling2d_1 (MaxPooling  (None, 7, 7, 64)         0         \n",
      " 2D)                                                             \n",
      "                                                                 \n",
      " batch_normalization_1 (Batc  (None, 7, 7, 64)         256       \n",
      " hNormalization)                                                 \n",
      "                                                                 \n",
      " conv2d_3 (Conv2D)           (None, 7, 7, 128)         73856     \n",
      "                                                                 \n",
      " conv2d_4 (Conv2D)           (None, 7, 7, 128)         147584    \n",
      "                                                                 \n",
      " max_pooling2d_2 (MaxPooling  (None, 3, 3, 128)        0         \n",
      " 2D)                                                             \n",
      "                                                                 \n",
      " batch_normalization_2 (Batc  (None, 3, 3, 128)        512       \n",
      " hNormalization)                                                 \n",
      "                                                                 \n",
      " conv2d_5 (Conv2D)           (None, 3, 3, 256)         295168    \n",
      "                                                                 \n",
      " conv2d_6 (Conv2D)           (None, 3, 3, 256)         590080    \n",
      "                                                                 \n",
      " max_pooling2d_3 (MaxPooling  (None, 1, 1, 256)        0         \n",
      " 2D)                                                             \n",
      "                                                                 \n",
      " flatten (Flatten)           (None, 256)               0         \n",
      "                                                                 \n",
      " dropout (Dropout)           (None, 256)               0         \n",
      "                                                                 \n",
      " dense (Dense)               (None, 256)               65792     \n",
      "                                                                 \n",
      " batch_normalization_3 (Batc  (None, 256)              1024      \n",
      " hNormalization)                                                 \n",
      "                                                                 \n",
      " dense_1 (Dense)             (None, 128)               32896     \n",
      "                                                                 \n",
      " batch_normalization_4 (Batc  (None, 128)              512       \n",
      " hNormalization)                                                 \n",
      "                                                                 \n",
      " dense_2 (Dense)             (None, 64)                8256      \n",
      "                                                                 \n",
      " batch_normalization_5 (Batc  (None, 64)               256       \n",
      " hNormalization)                                                 \n",
      "                                                                 \n",
      " dense_3 (Dense)             (None, 32)                2080      \n",
      "                                                                 \n",
      " batch_normalization_6 (Batc  (None, 32)               128       \n",
      " hNormalization)                                                 \n",
      "                                                                 \n",
      " classifier (Dense)          (None, 7)                 231       \n",
      "                                                                 \n",
      "=================================================================\n",
      "Total params: 1,275,079\n",
      "Trainable params: 1,273,671\n",
      "Non-trainable params: 1,408\n",
      "_________________________________________________________________\n"
     ]
    }
   ],
   "source": [
    "model = keras.models.Sequential()\n",
    "\n",
    "# Create Model Structure\n",
    "model.add(keras.layers.Input(shape=[28, 28, 3]))\n",
    "model.add(keras.layers.Conv2D(32, (3, 3), activation='relu', padding='same', kernel_initializer='he_normal'))\n",
    "model.add(keras.layers.MaxPooling2D())\n",
    "model.add(keras.layers.BatchNormalization())\n",
    "\n",
    "model.add(keras.layers.Conv2D(64, (3, 3), activation='relu', padding='same', kernel_initializer='he_normal'))\n",
    "model.add(keras.layers.Conv2D(64, (3, 3), activation='relu', padding='same', kernel_initializer='he_normal'))\n",
    "model.add(keras.layers.MaxPooling2D())\n",
    "model.add(keras.layers.BatchNormalization())\n",
    "model.add(keras.layers.Conv2D(128, (3, 3), activation='relu', padding='same', kernel_initializer='he_normal'))\n",
    "model.add(keras.layers.Conv2D(128, (3, 3), activation='relu', padding='same', kernel_initializer='he_normal'))\n",
    "model.add(keras.layers.MaxPooling2D())\n",
    "model.add(keras.layers.BatchNormalization())\n",
    "\n",
    "model.add(keras.layers.Conv2D(256, (3, 3), activation='relu', padding='same', kernel_initializer='he_normal'))\n",
    "model.add(keras.layers.Conv2D(256, (3, 3), activation='relu', padding='same', kernel_initializer='he_normal'))\n",
    "model.add(keras.layers.MaxPooling2D())\n",
    "\n",
    "model.add(keras.layers.Flatten())\n",
    "model.add(keras.layers.Dropout(rate=0.2))\n",
    "model.add(keras.layers.Dense(units=256, activation='relu', kernel_initializer='he_normal'))\n",
    "model.add(keras.layers.BatchNormalization())\n",
    "\n",
    "model.add(keras.layers.Dense(units=128, activation='relu', kernel_initializer='he_normal'))\n",
    "model.add(keras.layers.BatchNormalization())\n",
    "\n",
    "model.add(keras.layers.Dense(units=64, activation='relu', kernel_initializer='he_normal'))\n",
    "model.add(keras.layers.BatchNormalization())\n",
    "\n",
    "model.add(keras.layers.Dense(units=32, activation='relu', kernel_initializer='he_normal', kernel_regularizer=keras.regularizers.L1L2()))\n",
    "model.add(keras.layers.BatchNormalization())\n",
    "\n",
    "model.add(keras.layers.Dense(units=7, activation='softmax', kernel_initializer='glorot_uniform', name='classifier'))\n",
    "model.compile(Adamax(learning_rate= 0.001), loss= 'categorical_crossentropy', metrics= ['accuracy'])\n",
    "\n",
    "model.summary()"
   ]
  },
  {
   "cell_type": "markdown",
   "metadata": {},
   "source": [
    "**Training model**"
   ]
  },
  {
   "cell_type": "code",
   "execution_count": 16,
   "metadata": {
    "execution": {
     "iopub.execute_input": "2024-04-06T13:09:55.060076Z",
     "iopub.status.busy": "2024-04-06T13:09:55.059785Z",
     "iopub.status.idle": "2024-04-06T13:12:21.554709Z",
     "shell.execute_reply": "2024-04-06T13:12:21.553803Z",
     "shell.execute_reply.started": "2024-04-06T13:09:55.060051Z"
    }
   },
   "outputs": [
    {
     "name": "stdout",
     "output_type": "stream",
     "text": [
      "Epoch 1/25\n",
      "276/276 [==============================] - 15s 17ms/step - loss: 1.2460 - accuracy: 0.5470 - val_loss: 0.9595 - val_accuracy: 0.6765 - lr: 0.0010\n",
      "Epoch 2/25\n",
      "276/276 [==============================] - 3s 13ms/step - loss: 0.5359 - accuracy: 0.8221 - val_loss: 0.4820 - val_accuracy: 0.8370 - lr: 0.0010\n",
      "Epoch 3/25\n",
      "276/276 [==============================] - 3s 13ms/step - loss: 0.3044 - accuracy: 0.8977 - val_loss: 0.2909 - val_accuracy: 0.8988 - lr: 0.0010\n",
      "Epoch 4/25\n",
      "276/276 [==============================] - 3s 13ms/step - loss: 0.2039 - accuracy: 0.9322 - val_loss: 0.2777 - val_accuracy: 0.9163 - lr: 0.0010\n",
      "Epoch 5/25\n",
      "276/276 [==============================] - 4s 13ms/step - loss: 0.1402 - accuracy: 0.9537 - val_loss: 0.1641 - val_accuracy: 0.9471 - lr: 0.0010\n",
      "Epoch 6/25\n",
      "276/276 [==============================] - 4s 13ms/step - loss: 0.1135 - accuracy: 0.9616 - val_loss: 0.1596 - val_accuracy: 0.9508 - lr: 0.0010\n",
      "Epoch 7/25\n",
      "276/276 [==============================] - 3s 13ms/step - loss: 0.0811 - accuracy: 0.9732 - val_loss: 0.2465 - val_accuracy: 0.9232 - lr: 0.0010\n",
      "Epoch 8/25\n",
      "276/276 [==============================] - 3s 12ms/step - loss: 0.0669 - accuracy: 0.9784 - val_loss: 0.1440 - val_accuracy: 0.9616 - lr: 0.0010\n",
      "Epoch 9/25\n",
      "276/276 [==============================] - 3s 12ms/step - loss: 0.0618 - accuracy: 0.9786 - val_loss: 0.1116 - val_accuracy: 0.9671 - lr: 0.0010\n",
      "Epoch 10/25\n",
      "276/276 [==============================] - 4s 13ms/step - loss: 0.0439 - accuracy: 0.9858 - val_loss: 0.1771 - val_accuracy: 0.9513 - lr: 0.0010\n",
      "Epoch 11/25\n",
      "275/276 [============================>.] - ETA: 0s - loss: 0.0393 - accuracy: 0.9869\n",
      "Epoch 11: ReduceLROnPlateau reducing learning rate to 0.0005000000237487257.\n",
      "276/276 [==============================] - 3s 13ms/step - loss: 0.0393 - accuracy: 0.9869 - val_loss: 0.1319 - val_accuracy: 0.9622 - lr: 0.0010\n",
      "Epoch 12/25\n",
      "276/276 [==============================] - 3s 12ms/step - loss: 0.0132 - accuracy: 0.9963 - val_loss: 0.0925 - val_accuracy: 0.9781 - lr: 5.0000e-04\n",
      "Epoch 13/25\n",
      "276/276 [==============================] - 3s 13ms/step - loss: 0.0073 - accuracy: 0.9982 - val_loss: 0.1114 - val_accuracy: 0.9756 - lr: 5.0000e-04\n",
      "Epoch 14/25\n",
      "276/276 [==============================] - 3s 13ms/step - loss: 0.0059 - accuracy: 0.9986 - val_loss: 0.0967 - val_accuracy: 0.9788 - lr: 5.0000e-04\n",
      "Epoch 15/25\n",
      "276/276 [==============================] - 3s 13ms/step - loss: 0.0059 - accuracy: 0.9983 - val_loss: 0.1134 - val_accuracy: 0.9765 - lr: 5.0000e-04\n",
      "Epoch 16/25\n",
      "276/276 [==============================] - 3s 12ms/step - loss: 0.0052 - accuracy: 0.9987 - val_loss: 0.0935 - val_accuracy: 0.9802 - lr: 5.0000e-04\n",
      "Epoch 17/25\n",
      "276/276 [==============================] - 3s 12ms/step - loss: 0.0050 - accuracy: 0.9987 - val_loss: 0.1086 - val_accuracy: 0.9793 - lr: 5.0000e-04\n",
      "Epoch 18/25\n",
      "276/276 [==============================] - ETA: 0s - loss: 0.0051 - accuracy: 0.9986\n",
      "Epoch 18: ReduceLROnPlateau reducing learning rate to 0.0002500000118743628.\n",
      "276/276 [==============================] - 3s 12ms/step - loss: 0.0051 - accuracy: 0.9986 - val_loss: 0.1269 - val_accuracy: 0.9765 - lr: 5.0000e-04\n",
      "Epoch 19/25\n",
      "276/276 [==============================] - 3s 13ms/step - loss: 0.0031 - accuracy: 0.9990 - val_loss: 0.0991 - val_accuracy: 0.9814 - lr: 2.5000e-04\n",
      "Epoch 20/25\n",
      "276/276 [==============================] - 4s 13ms/step - loss: 0.0019 - accuracy: 0.9997 - val_loss: 0.0971 - val_accuracy: 0.9818 - lr: 2.5000e-04\n",
      "Epoch 21/25\n",
      "276/276 [==============================] - 3s 12ms/step - loss: 0.0018 - accuracy: 0.9997 - val_loss: 0.0955 - val_accuracy: 0.9822 - lr: 2.5000e-04\n",
      "Epoch 22/25\n",
      "276/276 [==============================] - 3s 12ms/step - loss: 0.0016 - accuracy: 0.9997 - val_loss: 0.1017 - val_accuracy: 0.9812 - lr: 2.5000e-04\n",
      "Epoch 23/25\n",
      "273/276 [============================>.] - ETA: 0s - loss: 0.0015 - accuracy: 0.9997\n",
      "Epoch 23: ReduceLROnPlateau reducing learning rate to 0.0001250000059371814.\n",
      "276/276 [==============================] - 3s 13ms/step - loss: 0.0015 - accuracy: 0.9996 - val_loss: 0.1041 - val_accuracy: 0.9809 - lr: 2.5000e-04\n",
      "Epoch 24/25\n",
      "276/276 [==============================] - 4s 13ms/step - loss: 0.0012 - accuracy: 0.9997 - val_loss: 0.0986 - val_accuracy: 0.9819 - lr: 1.2500e-04\n",
      "Epoch 25/25\n",
      "274/276 [============================>.] - ETA: 0s - loss: 8.2192e-04 - accuracy: 0.9999\n",
      "Epoch 25: ReduceLROnPlateau reducing learning rate to 6.25000029685907e-05.\n",
      "276/276 [==============================] - 4s 13ms/step - loss: 8.7417e-04 - accuracy: 0.9999 - val_loss: 0.1023 - val_accuracy: 0.9821 - lr: 1.2500e-04\n"
     ]
    }
   ],
   "source": [
    "history = model.fit(X_train,\n",
    "                    y_train,\n",
    "                    epochs=25,\n",
    "                    batch_size=128,\n",
    "                    validation_data=(X_test , y_test),\n",
    "                    callbacks=[learning_rate_reduction])"
   ]
  },
  {
   "cell_type": "markdown",
   "metadata": {},
   "source": [
    "**Show training history**"
   ]
  },
  {
   "cell_type": "code",
   "execution_count": 17,
   "metadata": {
    "execution": {
     "iopub.execute_input": "2024-04-06T13:12:21.556556Z",
     "iopub.status.busy": "2024-04-06T13:12:21.556169Z",
     "iopub.status.idle": "2024-04-06T13:12:21.790503Z",
     "shell.execute_reply": "2024-04-06T13:12:21.789606Z",
     "shell.execute_reply.started": "2024-04-06T13:12:21.556505Z"
    }
   },
   "outputs": [
    {
     "data": {
      "text/plain": [
       "['cnn-rf-classifier-model-skin.joblib']"
      ]
     },
     "execution_count": 17,
     "metadata": {},
     "output_type": "execute_result"
    }
   ],
   "source": [
    "#from tensorflow import keras\n",
    "# Define or load your CNN model\n",
    "#model = keras.models.Sequential()\n",
    "\n",
    "import joblib\n",
    "\n",
    "joblib.dump(model, 'cnn-rf-classifier-model-skin.joblib')"
   ]
  },
  {
   "cell_type": "code",
   "execution_count": 18,
   "metadata": {
    "execution": {
     "iopub.execute_input": "2024-04-06T13:12:21.792513Z",
     "iopub.status.busy": "2024-04-06T13:12:21.792144Z",
     "iopub.status.idle": "2024-04-06T13:12:22.639462Z",
     "shell.execute_reply": "2024-04-06T13:12:22.638608Z",
     "shell.execute_reply.started": "2024-04-06T13:12:21.792479Z"
    }
   },
   "outputs": [],
   "source": [
    "loaded_cnn_model = joblib.load('cnn-rf-classifier-model-skin.joblib')"
   ]
  },
  {
   "cell_type": "code",
   "execution_count": 19,
   "metadata": {
    "execution": {
     "iopub.execute_input": "2024-04-06T13:12:22.640905Z",
     "iopub.status.busy": "2024-04-06T13:12:22.640643Z",
     "iopub.status.idle": "2024-04-06T13:12:29.115069Z",
     "shell.execute_reply": "2024-04-06T13:12:29.114157Z",
     "shell.execute_reply.started": "2024-04-06T13:12:22.640882Z"
    }
   },
   "outputs": [
    {
     "name": "stdout",
     "output_type": "stream",
     "text": [
      "1101/1101 [==============================] - 3s 2ms/step\n",
      "367/367 [==============================] - 1s 3ms/step\n"
     ]
    }
   ],
   "source": [
    "X_train_features = loaded_cnn_model.predict(X_train)\n",
    "X_test_features = loaded_cnn_model.predict(X_test)"
   ]
  },
  {
   "cell_type": "code",
   "execution_count": 20,
   "metadata": {
    "execution": {
     "iopub.execute_input": "2024-04-06T13:12:29.116688Z",
     "iopub.status.busy": "2024-04-06T13:12:29.116372Z",
     "iopub.status.idle": "2024-04-06T13:12:29.121675Z",
     "shell.execute_reply": "2024-04-06T13:12:29.120753Z",
     "shell.execute_reply.started": "2024-04-06T13:12:29.116659Z"
    }
   },
   "outputs": [],
   "source": [
    "X_train_features_flat = X_train_features.reshape(X_train_features.shape[0], -1)\n",
    "X_test_features_flat = X_test_features.reshape(X_test_features.shape[0], -1)"
   ]
  },
  {
   "cell_type": "code",
   "execution_count": 21,
   "metadata": {
    "execution": {
     "iopub.execute_input": "2024-04-06T13:12:29.123087Z",
     "iopub.status.busy": "2024-04-06T13:12:29.122797Z",
     "iopub.status.idle": "2024-04-06T13:12:33.936137Z",
     "shell.execute_reply": "2024-04-06T13:12:33.935099Z",
     "shell.execute_reply.started": "2024-04-06T13:12:29.123062Z"
    }
   },
   "outputs": [
    {
     "data": {
      "text/html": [
       "<style>#sk-container-id-1 {color: black;background-color: white;}#sk-container-id-1 pre{padding: 0;}#sk-container-id-1 div.sk-toggleable {background-color: white;}#sk-container-id-1 label.sk-toggleable__label {cursor: pointer;display: block;width: 100%;margin-bottom: 0;padding: 0.3em;box-sizing: border-box;text-align: center;}#sk-container-id-1 label.sk-toggleable__label-arrow:before {content: \"▸\";float: left;margin-right: 0.25em;color: #696969;}#sk-container-id-1 label.sk-toggleable__label-arrow:hover:before {color: black;}#sk-container-id-1 div.sk-estimator:hover label.sk-toggleable__label-arrow:before {color: black;}#sk-container-id-1 div.sk-toggleable__content {max-height: 0;max-width: 0;overflow: hidden;text-align: left;background-color: #f0f8ff;}#sk-container-id-1 div.sk-toggleable__content pre {margin: 0.2em;color: black;border-radius: 0.25em;background-color: #f0f8ff;}#sk-container-id-1 input.sk-toggleable__control:checked~div.sk-toggleable__content {max-height: 200px;max-width: 100%;overflow: auto;}#sk-container-id-1 input.sk-toggleable__control:checked~label.sk-toggleable__label-arrow:before {content: \"▾\";}#sk-container-id-1 div.sk-estimator input.sk-toggleable__control:checked~label.sk-toggleable__label {background-color: #d4ebff;}#sk-container-id-1 div.sk-label input.sk-toggleable__control:checked~label.sk-toggleable__label {background-color: #d4ebff;}#sk-container-id-1 input.sk-hidden--visually {border: 0;clip: rect(1px 1px 1px 1px);clip: rect(1px, 1px, 1px, 1px);height: 1px;margin: -1px;overflow: hidden;padding: 0;position: absolute;width: 1px;}#sk-container-id-1 div.sk-estimator {font-family: monospace;background-color: #f0f8ff;border: 1px dotted black;border-radius: 0.25em;box-sizing: border-box;margin-bottom: 0.5em;}#sk-container-id-1 div.sk-estimator:hover {background-color: #d4ebff;}#sk-container-id-1 div.sk-parallel-item::after {content: \"\";width: 100%;border-bottom: 1px solid gray;flex-grow: 1;}#sk-container-id-1 div.sk-label:hover label.sk-toggleable__label {background-color: #d4ebff;}#sk-container-id-1 div.sk-serial::before {content: \"\";position: absolute;border-left: 1px solid gray;box-sizing: border-box;top: 0;bottom: 0;left: 50%;z-index: 0;}#sk-container-id-1 div.sk-serial {display: flex;flex-direction: column;align-items: center;background-color: white;padding-right: 0.2em;padding-left: 0.2em;position: relative;}#sk-container-id-1 div.sk-item {position: relative;z-index: 1;}#sk-container-id-1 div.sk-parallel {display: flex;align-items: stretch;justify-content: center;background-color: white;position: relative;}#sk-container-id-1 div.sk-item::before, #sk-container-id-1 div.sk-parallel-item::before {content: \"\";position: absolute;border-left: 1px solid gray;box-sizing: border-box;top: 0;bottom: 0;left: 50%;z-index: -1;}#sk-container-id-1 div.sk-parallel-item {display: flex;flex-direction: column;z-index: 1;position: relative;background-color: white;}#sk-container-id-1 div.sk-parallel-item:first-child::after {align-self: flex-end;width: 50%;}#sk-container-id-1 div.sk-parallel-item:last-child::after {align-self: flex-start;width: 50%;}#sk-container-id-1 div.sk-parallel-item:only-child::after {width: 0;}#sk-container-id-1 div.sk-dashed-wrapped {border: 1px dashed gray;margin: 0 0.4em 0.5em 0.4em;box-sizing: border-box;padding-bottom: 0.4em;background-color: white;}#sk-container-id-1 div.sk-label label {font-family: monospace;font-weight: bold;display: inline-block;line-height: 1.2em;}#sk-container-id-1 div.sk-label-container {text-align: center;}#sk-container-id-1 div.sk-container {/* jupyter's `normalize.less` sets `[hidden] { display: none; }` but bootstrap.min.css set `[hidden] { display: none !important; }` so we also need the `!important` here to be able to override the default hidden behavior on the sphinx rendered scikit-learn.org. See: https://github.com/scikit-learn/scikit-learn/issues/21755 */display: inline-block !important;position: relative;}#sk-container-id-1 div.sk-text-repr-fallback {display: none;}</style><div id=\"sk-container-id-1\" class=\"sk-top-container\"><div class=\"sk-text-repr-fallback\"><pre>RandomForestClassifier(random_state=0)</pre><b>In a Jupyter environment, please rerun this cell to show the HTML representation or trust the notebook. <br />On GitHub, the HTML representation is unable to render, please try loading this page with nbviewer.org.</b></div><div class=\"sk-container\" hidden><div class=\"sk-item\"><div class=\"sk-estimator sk-toggleable\"><input class=\"sk-toggleable__control sk-hidden--visually\" id=\"sk-estimator-id-1\" type=\"checkbox\" checked><label for=\"sk-estimator-id-1\" class=\"sk-toggleable__label sk-toggleable__label-arrow\">RandomForestClassifier</label><div class=\"sk-toggleable__content\"><pre>RandomForestClassifier(random_state=0)</pre></div></div></div></div></div>"
      ],
      "text/plain": [
       "RandomForestClassifier(random_state=0)"
      ]
     },
     "execution_count": 21,
     "metadata": {},
     "output_type": "execute_result"
    }
   ],
   "source": [
    "from sklearn.ensemble import RandomForestClassifier\n",
    "\n",
    "rf_classifier = RandomForestClassifier(n_estimators=100, random_state=0)\n",
    "rf_classifier.fit(X_train_features_flat, y_train)"
   ]
  },
  {
   "cell_type": "code",
   "execution_count": 22,
   "metadata": {
    "execution": {
     "iopub.execute_input": "2024-04-06T13:12:33.938262Z",
     "iopub.status.busy": "2024-04-06T13:12:33.937518Z",
     "iopub.status.idle": "2024-04-06T13:12:34.542846Z",
     "shell.execute_reply": "2024-04-06T13:12:34.541998Z",
     "shell.execute_reply.started": "2024-04-06T13:12:33.938225Z"
    }
   },
   "outputs": [],
   "source": [
    "# Make predictions using the trained Random Forest classifier\n",
    "y_pred = rf_classifier.predict(X_test_features_flat)"
   ]
  },
  {
   "cell_type": "code",
   "execution_count": 23,
   "metadata": {
    "execution": {
     "iopub.execute_input": "2024-04-06T13:12:34.544266Z",
     "iopub.status.busy": "2024-04-06T13:12:34.543988Z",
     "iopub.status.idle": "2024-04-06T13:12:34.554579Z",
     "shell.execute_reply": "2024-04-06T13:12:34.553581Z",
     "shell.execute_reply.started": "2024-04-06T13:12:34.544242Z"
    }
   },
   "outputs": [],
   "source": [
    "def plot_training(hist):\n",
    "    tr_acc = hist.history['accuracy']\n",
    "    tr_loss = hist.history['loss']\n",
    "    val_acc = hist.history['val_accuracy']\n",
    "    val_loss = hist.history['val_loss']\n",
    "    index_loss = np.argmin(val_loss)\n",
    "    val_lowest = val_loss[index_loss]\n",
    "    index_acc = np.argmax(val_acc)\n",
    "    acc_highest = val_acc[index_acc]\n",
    "\n",
    "    plt.figure(figsize= (20, 8))\n",
    "    plt.style.use('fivethirtyeight')\n",
    "    Epochs = [i+1 for i in range(len(tr_acc))]\n",
    "    loss_label = f'best epoch= {str(index_loss + 1)}'\n",
    "    acc_label = f'best epoch= {str(index_acc + 1)}'\n",
    "    \n",
    "    plt.subplot(1, 2, 1)\n",
    "    plt.plot(Epochs, tr_loss, 'r', label= 'Training loss')\n",
    "    plt.plot(Epochs, val_loss, 'g', label= 'Validation loss')\n",
    "    plt.scatter(index_loss + 1, val_lowest, s= 150, c= 'blue', label= loss_label)\n",
    "    plt.title('Training and Validation Loss')\n",
    "    plt.xlabel('Epochs')\n",
    "    plt.ylabel('Loss')\n",
    "    plt.legend()\n",
    "    \n",
    "    plt.subplot(1, 2, 2)\n",
    "    plt.plot(Epochs, tr_acc, 'r', label= 'Training Accuracy')\n",
    "    plt.plot(Epochs, val_acc, 'g', label= 'Validation Accuracy')\n",
    "    plt.scatter(index_acc + 1 , acc_highest, s= 150, c= 'blue', label= acc_label)\n",
    "    plt.title('Training and Validation Accuracy')\n",
    "    plt.xlabel('Epochs')\n",
    "    plt.ylabel('Accuracy')\n",
    "    plt.legend()\n",
    "    \n",
    "    plt.tight_layout\n",
    "    plt.show()\n",
    "    "
   ]
  },
  {
   "cell_type": "code",
   "execution_count": 24,
   "metadata": {
    "execution": {
     "iopub.execute_input": "2024-04-06T13:12:34.555846Z",
     "iopub.status.busy": "2024-04-06T13:12:34.555601Z",
     "iopub.status.idle": "2024-04-06T13:12:35.402576Z",
     "shell.execute_reply": "2024-04-06T13:12:35.401584Z",
     "shell.execute_reply.started": "2024-04-06T13:12:34.555824Z"
    }
   },
   "outputs": [
    {
     "data": {
      "image/png": "[encoded data removed]",
      "text/plain": [
       "<Figure size 2000x800 with 2 Axes>"
      ]
     },
     "metadata": {},
     "output_type": "display_data"
    }
   ],
   "source": [
    "plot_training(history)"
   ]
  },
  {
   "cell_type": "markdown",
   "metadata": {},
   "source": [
    "# Model Evaluation"
   ]
  },
  {
   "cell_type": "code",
   "execution_count": 25,
   "metadata": {
    "execution": {
     "iopub.execute_input": "2024-04-06T13:12:35.404775Z",
     "iopub.status.busy": "2024-04-06T13:12:35.404383Z",
     "iopub.status.idle": "2024-04-06T13:12:42.331573Z",
     "shell.execute_reply": "2024-04-06T13:12:42.330603Z",
     "shell.execute_reply.started": "2024-04-06T13:12:35.404738Z"
    }
   },
   "outputs": [
    {
     "name": "stdout",
     "output_type": "stream",
     "text": [
      "1101/1101 [==============================] - 4s 4ms/step - loss: 2.2134e-04 - accuracy: 1.0000\n",
      "367/367 [==============================] - 1s 4ms/step - loss: 0.0659 - accuracy: 0.9868\n",
      "Train Loss:  0.00022134347818791866\n",
      "Train Accuracy:  0.9999715685844421\n",
      "--------------------\n",
      "Test Loss:  0.0658503845334053\n",
      "Test Accuracy:  0.9867905378341675\n"
     ]
    }
   ],
   "source": [
    "train_score = model.evaluate(X_train, y_train, verbose= 1)\n",
    "test_score = model.evaluate(X_test, y_test, verbose= 1)\n",
    "\n",
    "print(\"Train Loss: \", train_score[0])\n",
    "print(\"Train Accuracy: \", train_score[1])\n",
    "print('-' * 20)\n",
    "print(\"Test Loss: \", test_score[0])\n",
    "print(\"Test Accuracy: \", test_score[1])"
   ]
  },
  {
   "cell_type": "code",
   "execution_count": 26,
   "metadata": {
    "execution": {
     "iopub.execute_input": "2024-04-06T13:12:42.333281Z",
     "iopub.status.busy": "2024-04-06T13:12:42.332902Z",
     "iopub.status.idle": "2024-04-06T13:12:42.339357Z",
     "shell.execute_reply": "2024-04-06T13:12:42.338316Z",
     "shell.execute_reply.started": "2024-04-06T13:12:42.333246Z"
    }
   },
   "outputs": [],
   "source": [
    "y_true = np.array(y_test)\n",
    "\n",
    "y_pred = np.argmax(y_pred , axis=1)\n",
    "y_true = np.argmax(y_true , axis=1)"
   ]
  },
  {
   "cell_type": "code",
   "execution_count": 27,
   "metadata": {
    "execution": {
     "iopub.execute_input": "2024-04-06T13:12:42.341004Z",
     "iopub.status.busy": "2024-04-06T13:12:42.340683Z",
     "iopub.status.idle": "2024-04-06T13:12:42.354137Z",
     "shell.execute_reply": "2024-04-06T13:12:42.353389Z",
     "shell.execute_reply.started": "2024-04-06T13:12:42.340976Z"
    }
   },
   "outputs": [],
   "source": [
    "from sklearn.metrics import accuracy_score, classification_report"
   ]
  },
  {
   "cell_type": "code",
   "execution_count": 28,
   "metadata": {
    "execution": {
     "iopub.execute_input": "2024-04-06T13:12:42.359827Z",
     "iopub.status.busy": "2024-04-06T13:12:42.359540Z",
     "iopub.status.idle": "2024-04-06T13:12:42.392856Z",
     "shell.execute_reply": "2024-04-06T13:12:42.392048Z",
     "shell.execute_reply.started": "2024-04-06T13:12:42.359802Z"
    }
   },
   "outputs": [],
   "source": [
    "accuracy = accuracy_score(y_true, y_pred)\n",
    "report = classification_report(y_true, y_pred)"
   ]
  },
  {
   "cell_type": "code",
   "execution_count": 29,
   "metadata": {
    "execution": {
     "iopub.execute_input": "2024-04-06T13:12:42.394298Z",
     "iopub.status.busy": "2024-04-06T13:12:42.393992Z",
     "iopub.status.idle": "2024-04-06T13:12:42.399286Z",
     "shell.execute_reply": "2024-04-06T13:12:42.398287Z",
     "shell.execute_reply.started": "2024-04-06T13:12:42.394271Z"
    }
   },
   "outputs": [
    {
     "name": "stdout",
     "output_type": "stream",
     "text": [
      "Accuracy: 0.9861087438213738\n",
      "Classification Report:\n",
      "               precision    recall  f1-score   support\n",
      "\n",
      "           0       0.99      1.00      1.00      1667\n",
      "           1       0.99      1.00      1.00      1689\n",
      "           2       0.98      1.00      0.99      1651\n",
      "           3       1.00      1.00      1.00      1629\n",
      "           4       0.99      0.91      0.95      1663\n",
      "           5       1.00      1.00      1.00      1680\n",
      "           6       0.95      0.99      0.97      1755\n",
      "\n",
      "    accuracy                           0.99     11734\n",
      "   macro avg       0.99      0.99      0.99     11734\n",
      "weighted avg       0.99      0.99      0.99     11734\n",
      "\n"
     ]
    }
   ],
   "source": [
    "print(\"Accuracy:\", accuracy)\n",
    "print(\"Classification Report:\\n\", report)"
   ]
  },
  {
   "cell_type": "code",
   "execution_count": 30,
   "metadata": {
    "execution": {
     "iopub.execute_input": "2024-04-06T13:12:42.400775Z",
     "iopub.status.busy": "2024-04-06T13:12:42.400420Z",
     "iopub.status.idle": "2024-04-06T13:12:42.439500Z",
     "shell.execute_reply": "2024-04-06T13:12:42.438601Z",
     "shell.execute_reply.started": "2024-04-06T13:12:42.400748Z"
    }
   },
   "outputs": [
    {
     "name": "stdout",
     "output_type": "stream",
     "text": [
      "              precision    recall  f1-score   support\n",
      "\n",
      "           0       0.99      1.00      1.00      1667\n",
      "           1       0.99      1.00      1.00      1689\n",
      "           2       0.98      1.00      0.99      1651\n",
      "           3       1.00      1.00      1.00      1629\n",
      "           4       0.99      0.91      0.95      1663\n",
      "           5       1.00      1.00      1.00      1680\n",
      "           6       0.95      0.99      0.97      1755\n",
      "\n",
      "    accuracy                           0.99     11734\n",
      "   macro avg       0.99      0.99      0.99     11734\n",
      "weighted avg       0.99      0.99      0.99     11734\n",
      "\n"
     ]
    }
   ],
   "source": [
    "print(classification_report(y_true, y_pred))"
   ]
  },
  {
   "cell_type": "markdown",
   "metadata": {},
   "source": [
    "**Create classes labels**"
   ]
  },
  {
   "cell_type": "code",
   "execution_count": 31,
   "metadata": {
    "execution": {
     "iopub.execute_input": "2024-04-06T13:12:42.441558Z",
     "iopub.status.busy": "2024-04-06T13:12:42.440860Z",
     "iopub.status.idle": "2024-04-06T13:12:42.446701Z",
     "shell.execute_reply": "2024-04-06T13:12:42.445680Z",
     "shell.execute_reply.started": "2024-04-06T13:12:42.441499Z"
    }
   },
   "outputs": [
    {
     "name": "stdout",
     "output_type": "stream",
     "text": [
      "[4, 6, 2, 1, 5, 0, 3]\n"
     ]
    }
   ],
   "source": [
    "classes_labels = []\n",
    "\n",
    "for key in classes.keys():\n",
    "    classes_labels.append(key)\n",
    "\n",
    "print(classes_labels)"
   ]
  },
  {
   "cell_type": "markdown",
   "metadata": {},
   "source": [
    "**Confussion Matrix**"
   ]
  },
  {
   "cell_type": "code",
   "execution_count": 32,
   "metadata": {
    "execution": {
     "iopub.execute_input": "2024-04-06T13:12:42.448431Z",
     "iopub.status.busy": "2024-04-06T13:12:42.448032Z",
     "iopub.status.idle": "2024-04-06T13:12:43.018132Z",
     "shell.execute_reply": "2024-04-06T13:12:43.017165Z",
     "shell.execute_reply.started": "2024-04-06T13:12:42.448396Z"
    }
   },
   "outputs": [
    {
     "data": {
      "image/png": "[encoded data removed]",
      "text/plain": [
       "<Figure size 1000x1000 with 2 Axes>"
      ]
     },
     "metadata": {},
     "output_type": "display_data"
    }
   ],
   "source": [
    "# Confusion matrix\n",
    "cm = cm = confusion_matrix(y_true, y_pred, labels=classes_labels)\n",
    "\n",
    "plt.figure(figsize= (10, 10))\n",
    "plt.imshow(cm, interpolation= 'nearest', cmap= plt.cm.Blues)\n",
    "plt.title('Confusion Matrix')\n",
    "plt.colorbar()\n",
    "\n",
    "tick_marks = np.arange(len(classes))\n",
    "plt.xticks(tick_marks, classes, rotation= 45)\n",
    "plt.yticks(tick_marks, classes)\n",
    "\n",
    "\n",
    "thresh = cm.max() / 2.\n",
    "for i, j in itertools.product(range(cm.shape[0]), range(cm.shape[1])):\n",
    "    plt.text(j, i, cm[i, j], horizontalalignment= 'center', color= 'white' if cm[i, j] > thresh else 'black')\n",
    "\n",
    "plt.tight_layout()\n",
    "plt.ylabel('True Label')\n",
    "plt.xlabel('Predicted Label')\n",
    "\n",
    "plt.show()"
   ]
  },
  {
   "cell_type": "markdown",
   "metadata": {},
   "source": [
    "**Tflite file**"
   ]
  },
  {
   "cell_type": "code",
   "execution_count": 33,
   "metadata": {
    "execution": {
     "iopub.execute_input": "2024-04-06T13:12:43.019696Z",
     "iopub.status.busy": "2024-04-06T13:12:43.019376Z",
     "iopub.status.idle": "2024-04-06T13:12:51.657631Z",
     "shell.execute_reply": "2024-04-06T13:12:51.656536Z",
     "shell.execute_reply.started": "2024-04-06T13:12:43.019668Z"
    }
   },
   "outputs": [],
   "source": [
    "converter = tf.lite.TFLiteConverter.from_keras_model(model)\n",
    "tflite_model = converter.convert()"
   ]
  },
  {
   "cell_type": "code",
   "execution_count": 34,
   "metadata": {
    "execution": {
     "iopub.execute_input": "2024-04-06T13:12:51.659278Z",
     "iopub.status.busy": "2024-04-06T13:12:51.658966Z",
     "iopub.status.idle": "2024-04-06T13:12:51.668488Z",
     "shell.execute_reply": "2024-04-06T13:12:51.667514Z",
     "shell.execute_reply.started": "2024-04-06T13:12:51.659251Z"
    }
   },
   "outputs": [],
   "source": [
    "with tf.io.gfile.GFile('cnn-rf-classifier-model-skin.tflite', 'wb') as file:\n",
    "  file.write(tflite_model)"
   ]
  },
  {
   "cell_type": "code",
   "execution_count": 35,
   "metadata": {
    "execution": {
     "iopub.execute_input": "2024-04-06T13:12:51.669972Z",
     "iopub.status.busy": "2024-04-06T13:12:51.669687Z",
     "iopub.status.idle": "2024-04-06T13:12:52.689310Z",
     "shell.execute_reply": "2024-04-06T13:12:52.688246Z",
     "shell.execute_reply.started": "2024-04-06T13:12:51.669947Z"
    }
   },
   "outputs": [
    {
     "name": "stdout",
     "output_type": "stream",
     "text": [
      "total 20M\n",
      "-rw-r--r-- 1 root  15M Apr  6 13:12 cnn-rf-classifier-model-skin.joblib\n",
      "-rw-r--r-- 1 root 4.9M Apr  6 13:12 cnn-rf-classifier-model-skin.tflite\n"
     ]
    }
   ],
   "source": [
    "!ls -lGh"
   ]
  },
  {
   "cell_type": "code",
   "execution_count": 36,
   "metadata": {
    "execution": {
     "iopub.execute_input": "2024-04-06T13:12:52.691614Z",
     "iopub.status.busy": "2024-04-06T13:12:52.691187Z",
     "iopub.status.idle": "2024-04-06T13:12:53.749337Z",
     "shell.execute_reply": "2024-04-06T13:12:53.747883Z",
     "shell.execute_reply.started": "2024-04-06T13:12:52.691572Z"
    }
   },
   "outputs": [
    {
     "name": "stdout",
     "output_type": "stream",
     "text": [
      "Sat Apr  6 13:12:53 2024       \n",
      "+---------------------------------------------------------------------------------------+\n",
      "| NVIDIA-SMI 535.129.03             Driver Version: 535.129.03   CUDA Version: 12.2     |\n",
      "|-----------------------------------------+----------------------+----------------------+\n",
      "| GPU  Name                 Persistence-M | Bus-Id        Disp.A | Volatile Uncorr. ECC |\n",
      "| Fan  Temp   Perf          Pwr:Usage/Cap |         Memory-Usage | GPU-Util  Compute M. |\n",
      "|                                         |                      |               MIG M. |\n",
      "|=========================================+======================+======================|\n",
      "|   0  Tesla P100-PCIE-16GB           Off | 00000000:00:04.0 Off |                    0 |\n",
      "| N/A   44C    P0              33W / 250W |  15896MiB / 16384MiB |      0%      Default |\n",
      "|                                         |                      |                  N/A |\n",
      "+-----------------------------------------+----------------------+----------------------+\n",
      "                                                                                         \n",
      "+---------------------------------------------------------------------------------------+\n",
      "| Processes:                                                                            |\n",
      "|  GPU   GI   CI        PID   Type   Process name                            GPU Memory |\n",
      "|        ID   ID                                                             Usage      |\n",
      "|=======================================================================================|\n",
      "+---------------------------------------------------------------------------------------+\n"
     ]
    }
   ],
   "source": [
    "!nvidia-smi"
   ]
  }
 ],
 "metadata": {
  "kaggle": {
   "accelerator": "gpu",
   "dataSources": [
    {
     "datasetId": 54339,
     "sourceId": 104884,
     "sourceType": "datasetVersion"
    }
   ],
   "dockerImageVersionId": 30528,
   "isGpuEnabled": true,
   "isInternetEnabled": true,
   "language": "python",
   "sourceType": "notebook"
  },
  "kernelspec": {
   "display_name": "Python 3 (ipykernel)",
   "language": "python",
   "name": "python3"
  },
  "language_info": {
   "codemirror_mode": {
    "name": "ipython",
    "version": 3
   },
   "file_extension": ".py",
   "mimetype": "text/x-python",
   "name": "python",
   "nbconvert_exporter": "python",
   "pygments_lexer": "ipython3",
   "version": "3.12.2"
  }
 },
 "nbformat": 4,
 "nbformat_minor": 4
}
